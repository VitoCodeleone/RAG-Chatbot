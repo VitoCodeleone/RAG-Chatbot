{
 "cells": [
  {
   "cell_type": "code",
   "execution_count": 1,
   "metadata": {},
   "outputs": [
    {
     "name": "stdout",
     "output_type": "stream",
     "text": [
      "OK\n"
     ]
    }
   ],
   "source": [
    "print(\"OK\")"
   ]
  },
  {
   "cell_type": "code",
   "execution_count": 62,
   "metadata": {},
   "outputs": [],
   "source": [
    "from langchain.embeddings import HuggingFaceEmbeddings\n",
    "from langchain_pinecone.vectorstores import PineconeVectorStore\n",
    "import pinecone\n",
    "from langchain.document_loaders import PyPDFLoader, DirectoryLoader\n",
    "from langchain_text_splitters import RecursiveCharacterTextSplitter\n",
    "from langchain.prompts import PromptTemplate\n",
    "from langchain import hub\n",
    "import os"
   ]
  },
  {
   "cell_type": "code",
   "execution_count": 50,
   "metadata": {},
   "outputs": [],
   "source": [
    "filename = \"Python_Programming.pdf\""
   ]
  },
  {
   "cell_type": "code",
   "execution_count": 51,
   "metadata": {},
   "outputs": [],
   "source": [
    "path = os.path.join(\"../data\", filename)"
   ]
  },
  {
   "cell_type": "code",
   "execution_count": 52,
   "metadata": {},
   "outputs": [
    {
     "name": "stdout",
     "output_type": "stream",
     "text": [
      "../data\\Python_Programming.pdf\n"
     ]
    }
   ],
   "source": [
    "print(path)"
   ]
  },
  {
   "cell_type": "code",
   "execution_count": 53,
   "metadata": {},
   "outputs": [],
   "source": [
    "loader = PyPDFLoader(path)"
   ]
  },
  {
   "cell_type": "code",
   "execution_count": 45,
   "metadata": {},
   "outputs": [
    {
     "ename": "EmptyFileError",
     "evalue": "Cannot read an empty file",
     "output_type": "error",
     "traceback": [
      "\u001b[1;31m---------------------------------------------------------------------------\u001b[0m",
      "\u001b[1;31mEmptyFileError\u001b[0m                            Traceback (most recent call last)",
      "Cell \u001b[1;32mIn[45], line 1\u001b[0m\n\u001b[1;32m----> 1\u001b[0m \u001b[43mloader\u001b[49m\u001b[38;5;241;43m.\u001b[39;49m\u001b[43mload\u001b[49m\u001b[43m(\u001b[49m\u001b[43m)\u001b[49m\n",
      "File \u001b[1;32mc:\\Users\\Karthik\\OneDrive\\Desktop\\medical chatbot\\env\\Lib\\site-packages\\langchain_core\\document_loaders\\base.py:31\u001b[0m, in \u001b[0;36mBaseLoader.load\u001b[1;34m(self)\u001b[0m\n\u001b[0;32m     29\u001b[0m \u001b[38;5;28;01mdef\u001b[39;00m \u001b[38;5;21mload\u001b[39m(\u001b[38;5;28mself\u001b[39m) \u001b[38;5;241m-\u001b[39m\u001b[38;5;241m>\u001b[39m \u001b[38;5;28mlist\u001b[39m[Document]:\n\u001b[0;32m     30\u001b[0m \u001b[38;5;250m    \u001b[39m\u001b[38;5;124;03m\"\"\"Load data into Document objects.\"\"\"\u001b[39;00m\n\u001b[1;32m---> 31\u001b[0m     \u001b[38;5;28;01mreturn\u001b[39;00m \u001b[38;5;28;43mlist\u001b[39;49m\u001b[43m(\u001b[49m\u001b[38;5;28;43mself\u001b[39;49m\u001b[38;5;241;43m.\u001b[39;49m\u001b[43mlazy_load\u001b[49m\u001b[43m(\u001b[49m\u001b[43m)\u001b[49m\u001b[43m)\u001b[49m\n",
      "File \u001b[1;32mc:\\Users\\Karthik\\OneDrive\\Desktop\\medical chatbot\\env\\Lib\\site-packages\\langchain_community\\document_loaders\\pdf.py:257\u001b[0m, in \u001b[0;36mPyPDFLoader.lazy_load\u001b[1;34m(self)\u001b[0m\n\u001b[0;32m    255\u001b[0m \u001b[38;5;28;01melse\u001b[39;00m:\n\u001b[0;32m    256\u001b[0m     blob \u001b[38;5;241m=\u001b[39m Blob\u001b[38;5;241m.\u001b[39mfrom_path(\u001b[38;5;28mself\u001b[39m\u001b[38;5;241m.\u001b[39mfile_path)  \u001b[38;5;66;03m# type: ignore[attr-defined]\u001b[39;00m\n\u001b[1;32m--> 257\u001b[0m \u001b[38;5;28;01myield from\u001b[39;00m \u001b[38;5;28;43mself\u001b[39;49m\u001b[38;5;241;43m.\u001b[39;49m\u001b[43mparser\u001b[49m\u001b[38;5;241;43m.\u001b[39;49m\u001b[43mparse\u001b[49m\u001b[43m(\u001b[49m\u001b[43mblob\u001b[49m\u001b[43m)\u001b[49m\n",
      "File \u001b[1;32mc:\\Users\\Karthik\\OneDrive\\Desktop\\medical chatbot\\env\\Lib\\site-packages\\langchain_core\\document_loaders\\base.py:127\u001b[0m, in \u001b[0;36mBaseBlobParser.parse\u001b[1;34m(self, blob)\u001b[0m\n\u001b[0;32m    112\u001b[0m \u001b[38;5;28;01mdef\u001b[39;00m \u001b[38;5;21mparse\u001b[39m(\u001b[38;5;28mself\u001b[39m, blob: Blob) \u001b[38;5;241m-\u001b[39m\u001b[38;5;241m>\u001b[39m \u001b[38;5;28mlist\u001b[39m[Document]:\n\u001b[0;32m    113\u001b[0m \u001b[38;5;250m    \u001b[39m\u001b[38;5;124;03m\"\"\"Eagerly parse the blob into a document or documents.\u001b[39;00m\n\u001b[0;32m    114\u001b[0m \n\u001b[0;32m    115\u001b[0m \u001b[38;5;124;03m    This is a convenience method for interactive development environment.\u001b[39;00m\n\u001b[1;32m   (...)\u001b[0m\n\u001b[0;32m    125\u001b[0m \u001b[38;5;124;03m        List of documents\u001b[39;00m\n\u001b[0;32m    126\u001b[0m \u001b[38;5;124;03m    \"\"\"\u001b[39;00m\n\u001b[1;32m--> 127\u001b[0m     \u001b[38;5;28;01mreturn\u001b[39;00m \u001b[38;5;28;43mlist\u001b[39;49m\u001b[43m(\u001b[49m\u001b[38;5;28;43mself\u001b[39;49m\u001b[38;5;241;43m.\u001b[39;49m\u001b[43mlazy_parse\u001b[49m\u001b[43m(\u001b[49m\u001b[43mblob\u001b[49m\u001b[43m)\u001b[49m\u001b[43m)\u001b[49m\n",
      "File \u001b[1;32mc:\\Users\\Karthik\\OneDrive\\Desktop\\medical chatbot\\env\\Lib\\site-packages\\langchain_community\\document_loaders\\parsers\\pdf.py:122\u001b[0m, in \u001b[0;36mPyPDFParser.lazy_parse\u001b[1;34m(self, blob)\u001b[0m\n\u001b[0;32m    117\u001b[0m         \u001b[38;5;28;01mreturn\u001b[39;00m page\u001b[38;5;241m.\u001b[39mextract_text(\n\u001b[0;32m    118\u001b[0m             extraction_mode\u001b[38;5;241m=\u001b[39m\u001b[38;5;28mself\u001b[39m\u001b[38;5;241m.\u001b[39mextraction_mode, \u001b[38;5;241m*\u001b[39m\u001b[38;5;241m*\u001b[39m\u001b[38;5;28mself\u001b[39m\u001b[38;5;241m.\u001b[39mextraction_kwargs\n\u001b[0;32m    119\u001b[0m         )\n\u001b[0;32m    121\u001b[0m \u001b[38;5;28;01mwith\u001b[39;00m blob\u001b[38;5;241m.\u001b[39mas_bytes_io() \u001b[38;5;28;01mas\u001b[39;00m pdf_file_obj:  \u001b[38;5;66;03m# type: ignore[attr-defined]\u001b[39;00m\n\u001b[1;32m--> 122\u001b[0m     pdf_reader \u001b[38;5;241m=\u001b[39m \u001b[43mpypdf\u001b[49m\u001b[38;5;241;43m.\u001b[39;49m\u001b[43mPdfReader\u001b[49m\u001b[43m(\u001b[49m\u001b[43mpdf_file_obj\u001b[49m\u001b[43m,\u001b[49m\u001b[43m \u001b[49m\u001b[43mpassword\u001b[49m\u001b[38;5;241;43m=\u001b[39;49m\u001b[38;5;28;43mself\u001b[39;49m\u001b[38;5;241;43m.\u001b[39;49m\u001b[43mpassword\u001b[49m\u001b[43m)\u001b[49m\n\u001b[0;32m    124\u001b[0m     \u001b[38;5;28;01myield from\u001b[39;00m [\n\u001b[0;32m    125\u001b[0m         Document(\n\u001b[0;32m    126\u001b[0m             page_content\u001b[38;5;241m=\u001b[39m_extract_text_from_page(page\u001b[38;5;241m=\u001b[39mpage)\n\u001b[1;32m   (...)\u001b[0m\n\u001b[0;32m    130\u001b[0m         \u001b[38;5;28;01mfor\u001b[39;00m page_number, page \u001b[38;5;129;01min\u001b[39;00m \u001b[38;5;28menumerate\u001b[39m(pdf_reader\u001b[38;5;241m.\u001b[39mpages)\n\u001b[0;32m    131\u001b[0m     ]\n",
      "File \u001b[1;32mc:\\Users\\Karthik\\OneDrive\\Desktop\\medical chatbot\\env\\Lib\\site-packages\\pypdf\\_reader.py:137\u001b[0m, in \u001b[0;36mPdfReader.__init__\u001b[1;34m(self, stream, strict, password)\u001b[0m\n\u001b[0;32m    135\u001b[0m         stream \u001b[38;5;241m=\u001b[39m BytesIO(fh\u001b[38;5;241m.\u001b[39mread())\n\u001b[0;32m    136\u001b[0m     \u001b[38;5;28mself\u001b[39m\u001b[38;5;241m.\u001b[39m_stream_opened \u001b[38;5;241m=\u001b[39m \u001b[38;5;28;01mTrue\u001b[39;00m\n\u001b[1;32m--> 137\u001b[0m \u001b[38;5;28;43mself\u001b[39;49m\u001b[38;5;241;43m.\u001b[39;49m\u001b[43mread\u001b[49m\u001b[43m(\u001b[49m\u001b[43mstream\u001b[49m\u001b[43m)\u001b[49m\n\u001b[0;32m    138\u001b[0m \u001b[38;5;28mself\u001b[39m\u001b[38;5;241m.\u001b[39mstream \u001b[38;5;241m=\u001b[39m stream\n\u001b[0;32m    140\u001b[0m \u001b[38;5;28mself\u001b[39m\u001b[38;5;241m.\u001b[39m_override_encryption \u001b[38;5;241m=\u001b[39m \u001b[38;5;28;01mFalse\u001b[39;00m\n",
      "File \u001b[1;32mc:\\Users\\Karthik\\OneDrive\\Desktop\\medical chatbot\\env\\Lib\\site-packages\\pypdf\\_reader.py:571\u001b[0m, in \u001b[0;36mPdfReader.read\u001b[1;34m(self, stream)\u001b[0m\n\u001b[0;32m    570\u001b[0m \u001b[38;5;28;01mdef\u001b[39;00m \u001b[38;5;21mread\u001b[39m(\u001b[38;5;28mself\u001b[39m, stream: StreamType) \u001b[38;5;241m-\u001b[39m\u001b[38;5;241m>\u001b[39m \u001b[38;5;28;01mNone\u001b[39;00m:\n\u001b[1;32m--> 571\u001b[0m     \u001b[38;5;28;43mself\u001b[39;49m\u001b[38;5;241;43m.\u001b[39;49m\u001b[43m_basic_validation\u001b[49m\u001b[43m(\u001b[49m\u001b[43mstream\u001b[49m\u001b[43m)\u001b[49m\n\u001b[0;32m    572\u001b[0m     \u001b[38;5;28mself\u001b[39m\u001b[38;5;241m.\u001b[39m_find_eof_marker(stream)\n\u001b[0;32m    573\u001b[0m     startxref \u001b[38;5;241m=\u001b[39m \u001b[38;5;28mself\u001b[39m\u001b[38;5;241m.\u001b[39m_find_startxref_pos(stream)\n",
      "File \u001b[1;32mc:\\Users\\Karthik\\OneDrive\\Desktop\\medical chatbot\\env\\Lib\\site-packages\\pypdf\\_reader.py:636\u001b[0m, in \u001b[0;36mPdfReader._basic_validation\u001b[1;34m(self, stream)\u001b[0m\n\u001b[0;32m    634\u001b[0m     \u001b[38;5;28;01mraise\u001b[39;00m UnsupportedOperation(\u001b[38;5;124m\"\u001b[39m\u001b[38;5;124mcannot read header\u001b[39m\u001b[38;5;124m\"\u001b[39m)\n\u001b[0;32m    635\u001b[0m \u001b[38;5;28;01mif\u001b[39;00m header_byte \u001b[38;5;241m==\u001b[39m \u001b[38;5;124mb\u001b[39m\u001b[38;5;124m\"\u001b[39m\u001b[38;5;124m\"\u001b[39m:\n\u001b[1;32m--> 636\u001b[0m     \u001b[38;5;28;01mraise\u001b[39;00m EmptyFileError(\u001b[38;5;124m\"\u001b[39m\u001b[38;5;124mCannot read an empty file\u001b[39m\u001b[38;5;124m\"\u001b[39m)\n\u001b[0;32m    637\u001b[0m \u001b[38;5;28;01melif\u001b[39;00m header_byte \u001b[38;5;241m!=\u001b[39m \u001b[38;5;124mb\u001b[39m\u001b[38;5;124m\"\u001b[39m\u001b[38;5;124m%\u001b[39m\u001b[38;5;124mPDF-\u001b[39m\u001b[38;5;124m\"\u001b[39m:\n\u001b[0;32m    638\u001b[0m     \u001b[38;5;28;01mif\u001b[39;00m \u001b[38;5;28mself\u001b[39m\u001b[38;5;241m.\u001b[39mstrict:\n",
      "\u001b[1;31mEmptyFileError\u001b[0m: Cannot read an empty file"
     ]
    }
   ],
   "source": [
    "loader.load()"
   ]
  },
  {
   "cell_type": "code",
   "execution_count": 40,
   "metadata": {},
   "outputs": [
    {
     "ename": "KeyboardInterrupt",
     "evalue": "",
     "output_type": "error",
     "traceback": [
      "\u001b[1;31m---------------------------------------------------------------------------\u001b[0m",
      "\u001b[1;31mKeyboardInterrupt\u001b[0m                         Traceback (most recent call last)",
      "Cell \u001b[1;32mIn[40], line 3\u001b[0m\n\u001b[0;32m      1\u001b[0m pages \u001b[38;5;241m=\u001b[39m []\n\u001b[1;32m----> 3\u001b[0m \u001b[38;5;28;43;01mfor\u001b[39;49;00m\u001b[43m \u001b[49m\u001b[43mpage\u001b[49m\u001b[43m \u001b[49m\u001b[38;5;129;43;01min\u001b[39;49;00m\u001b[43m \u001b[49m\u001b[43mloader\u001b[49m\u001b[38;5;241;43m.\u001b[39;49m\u001b[43mlazy_load\u001b[49m\u001b[43m(\u001b[49m\u001b[43m)\u001b[49m\u001b[43m:\u001b[49m\n\u001b[0;32m      4\u001b[0m \u001b[43m    \u001b[49m\u001b[43mpages\u001b[49m\u001b[38;5;241;43m.\u001b[39;49m\u001b[43mappend\u001b[49m\u001b[43m(\u001b[49m\u001b[43mpage\u001b[49m\u001b[43m)\u001b[49m\n",
      "File \u001b[1;32mc:\\Users\\Karthik\\OneDrive\\Desktop\\medical chatbot\\env\\Lib\\site-packages\\langchain_community\\document_loaders\\pdf.py:257\u001b[0m, in \u001b[0;36mPyPDFLoader.lazy_load\u001b[1;34m(self)\u001b[0m\n\u001b[0;32m    255\u001b[0m \u001b[38;5;28;01melse\u001b[39;00m:\n\u001b[0;32m    256\u001b[0m     blob \u001b[38;5;241m=\u001b[39m Blob\u001b[38;5;241m.\u001b[39mfrom_path(\u001b[38;5;28mself\u001b[39m\u001b[38;5;241m.\u001b[39mfile_path)  \u001b[38;5;66;03m# type: ignore[attr-defined]\u001b[39;00m\n\u001b[1;32m--> 257\u001b[0m \u001b[38;5;28;01myield from\u001b[39;00m \u001b[38;5;28;43mself\u001b[39;49m\u001b[38;5;241;43m.\u001b[39;49m\u001b[43mparser\u001b[49m\u001b[38;5;241;43m.\u001b[39;49m\u001b[43mparse\u001b[49m\u001b[43m(\u001b[49m\u001b[43mblob\u001b[49m\u001b[43m)\u001b[49m\n",
      "File \u001b[1;32mc:\\Users\\Karthik\\OneDrive\\Desktop\\medical chatbot\\env\\Lib\\site-packages\\langchain_core\\document_loaders\\base.py:127\u001b[0m, in \u001b[0;36mBaseBlobParser.parse\u001b[1;34m(self, blob)\u001b[0m\n\u001b[0;32m    112\u001b[0m \u001b[38;5;28;01mdef\u001b[39;00m \u001b[38;5;21mparse\u001b[39m(\u001b[38;5;28mself\u001b[39m, blob: Blob) \u001b[38;5;241m-\u001b[39m\u001b[38;5;241m>\u001b[39m \u001b[38;5;28mlist\u001b[39m[Document]:\n\u001b[0;32m    113\u001b[0m \u001b[38;5;250m    \u001b[39m\u001b[38;5;124;03m\"\"\"Eagerly parse the blob into a document or documents.\u001b[39;00m\n\u001b[0;32m    114\u001b[0m \n\u001b[0;32m    115\u001b[0m \u001b[38;5;124;03m    This is a convenience method for interactive development environment.\u001b[39;00m\n\u001b[1;32m   (...)\u001b[0m\n\u001b[0;32m    125\u001b[0m \u001b[38;5;124;03m        List of documents\u001b[39;00m\n\u001b[0;32m    126\u001b[0m \u001b[38;5;124;03m    \"\"\"\u001b[39;00m\n\u001b[1;32m--> 127\u001b[0m     \u001b[38;5;28;01mreturn\u001b[39;00m \u001b[38;5;28;43mlist\u001b[39;49m\u001b[43m(\u001b[49m\u001b[38;5;28;43mself\u001b[39;49m\u001b[38;5;241;43m.\u001b[39;49m\u001b[43mlazy_parse\u001b[49m\u001b[43m(\u001b[49m\u001b[43mblob\u001b[49m\u001b[43m)\u001b[49m\u001b[43m)\u001b[49m\n",
      "File \u001b[1;32mc:\\Users\\Karthik\\OneDrive\\Desktop\\medical chatbot\\env\\Lib\\site-packages\\langchain_community\\document_loaders\\parsers\\pdf.py:124\u001b[0m, in \u001b[0;36mPyPDFParser.lazy_parse\u001b[1;34m(self, blob)\u001b[0m\n\u001b[0;32m    121\u001b[0m \u001b[38;5;28;01mwith\u001b[39;00m blob\u001b[38;5;241m.\u001b[39mas_bytes_io() \u001b[38;5;28;01mas\u001b[39;00m pdf_file_obj:  \u001b[38;5;66;03m# type: ignore[attr-defined]\u001b[39;00m\n\u001b[0;32m    122\u001b[0m     pdf_reader \u001b[38;5;241m=\u001b[39m pypdf\u001b[38;5;241m.\u001b[39mPdfReader(pdf_file_obj, password\u001b[38;5;241m=\u001b[39m\u001b[38;5;28mself\u001b[39m\u001b[38;5;241m.\u001b[39mpassword)\n\u001b[1;32m--> 124\u001b[0m     \u001b[38;5;28;01myield from\u001b[39;00m \u001b[43m[\u001b[49m\n\u001b[0;32m    125\u001b[0m \u001b[43m        \u001b[49m\u001b[43mDocument\u001b[49m\u001b[43m(\u001b[49m\n\u001b[0;32m    126\u001b[0m \u001b[43m            \u001b[49m\u001b[43mpage_content\u001b[49m\u001b[38;5;241;43m=\u001b[39;49m\u001b[43m_extract_text_from_page\u001b[49m\u001b[43m(\u001b[49m\u001b[43mpage\u001b[49m\u001b[38;5;241;43m=\u001b[39;49m\u001b[43mpage\u001b[49m\u001b[43m)\u001b[49m\n\u001b[0;32m    127\u001b[0m \u001b[43m            \u001b[49m\u001b[38;5;241;43m+\u001b[39;49m\u001b[43m \u001b[49m\u001b[38;5;28;43mself\u001b[39;49m\u001b[38;5;241;43m.\u001b[39;49m\u001b[43m_extract_images_from_page\u001b[49m\u001b[43m(\u001b[49m\u001b[43mpage\u001b[49m\u001b[43m)\u001b[49m\u001b[43m,\u001b[49m\n\u001b[0;32m    128\u001b[0m \u001b[43m            \u001b[49m\u001b[43mmetadata\u001b[49m\u001b[38;5;241;43m=\u001b[39;49m\u001b[43m{\u001b[49m\u001b[38;5;124;43m\"\u001b[39;49m\u001b[38;5;124;43msource\u001b[39;49m\u001b[38;5;124;43m\"\u001b[39;49m\u001b[43m:\u001b[49m\u001b[43m \u001b[49m\u001b[43mblob\u001b[49m\u001b[38;5;241;43m.\u001b[39;49m\u001b[43msource\u001b[49m\u001b[43m,\u001b[49m\u001b[43m \u001b[49m\u001b[38;5;124;43m\"\u001b[39;49m\u001b[38;5;124;43mpage\u001b[39;49m\u001b[38;5;124;43m\"\u001b[39;49m\u001b[43m:\u001b[49m\u001b[43m \u001b[49m\u001b[43mpage_number\u001b[49m\u001b[43m}\u001b[49m\u001b[43m,\u001b[49m\u001b[43m  \u001b[49m\u001b[38;5;66;43;03m# type: ignore[attr-defined]\u001b[39;49;00m\n\u001b[0;32m    129\u001b[0m \u001b[43m        \u001b[49m\u001b[43m)\u001b[49m\n\u001b[0;32m    130\u001b[0m \u001b[43m        \u001b[49m\u001b[38;5;28;43;01mfor\u001b[39;49;00m\u001b[43m \u001b[49m\u001b[43mpage_number\u001b[49m\u001b[43m,\u001b[49m\u001b[43m \u001b[49m\u001b[43mpage\u001b[49m\u001b[43m \u001b[49m\u001b[38;5;129;43;01min\u001b[39;49;00m\u001b[43m \u001b[49m\u001b[38;5;28;43menumerate\u001b[39;49m\u001b[43m(\u001b[49m\u001b[43mpdf_reader\u001b[49m\u001b[38;5;241;43m.\u001b[39;49m\u001b[43mpages\u001b[49m\u001b[43m)\u001b[49m\n\u001b[0;32m    131\u001b[0m \u001b[43m    \u001b[49m\u001b[43m]\u001b[49m\n",
      "File \u001b[1;32mc:\\Users\\Karthik\\OneDrive\\Desktop\\medical chatbot\\env\\Lib\\site-packages\\langchain_community\\document_loaders\\parsers\\pdf.py:126\u001b[0m, in \u001b[0;36m<listcomp>\u001b[1;34m(.0)\u001b[0m\n\u001b[0;32m    121\u001b[0m \u001b[38;5;28;01mwith\u001b[39;00m blob\u001b[38;5;241m.\u001b[39mas_bytes_io() \u001b[38;5;28;01mas\u001b[39;00m pdf_file_obj:  \u001b[38;5;66;03m# type: ignore[attr-defined]\u001b[39;00m\n\u001b[0;32m    122\u001b[0m     pdf_reader \u001b[38;5;241m=\u001b[39m pypdf\u001b[38;5;241m.\u001b[39mPdfReader(pdf_file_obj, password\u001b[38;5;241m=\u001b[39m\u001b[38;5;28mself\u001b[39m\u001b[38;5;241m.\u001b[39mpassword)\n\u001b[0;32m    124\u001b[0m     \u001b[38;5;28;01myield from\u001b[39;00m [\n\u001b[0;32m    125\u001b[0m         Document(\n\u001b[1;32m--> 126\u001b[0m             page_content\u001b[38;5;241m=\u001b[39m\u001b[43m_extract_text_from_page\u001b[49m\u001b[43m(\u001b[49m\u001b[43mpage\u001b[49m\u001b[38;5;241;43m=\u001b[39;49m\u001b[43mpage\u001b[49m\u001b[43m)\u001b[49m\n\u001b[0;32m    127\u001b[0m             \u001b[38;5;241m+\u001b[39m \u001b[38;5;28mself\u001b[39m\u001b[38;5;241m.\u001b[39m_extract_images_from_page(page),\n\u001b[0;32m    128\u001b[0m             metadata\u001b[38;5;241m=\u001b[39m{\u001b[38;5;124m\"\u001b[39m\u001b[38;5;124msource\u001b[39m\u001b[38;5;124m\"\u001b[39m: blob\u001b[38;5;241m.\u001b[39msource, \u001b[38;5;124m\"\u001b[39m\u001b[38;5;124mpage\u001b[39m\u001b[38;5;124m\"\u001b[39m: page_number},  \u001b[38;5;66;03m# type: ignore[attr-defined]\u001b[39;00m\n\u001b[0;32m    129\u001b[0m         )\n\u001b[0;32m    130\u001b[0m         \u001b[38;5;28;01mfor\u001b[39;00m page_number, page \u001b[38;5;129;01min\u001b[39;00m \u001b[38;5;28menumerate\u001b[39m(pdf_reader\u001b[38;5;241m.\u001b[39mpages)\n\u001b[0;32m    131\u001b[0m     ]\n",
      "File \u001b[1;32mc:\\Users\\Karthik\\OneDrive\\Desktop\\medical chatbot\\env\\Lib\\site-packages\\langchain_community\\document_loaders\\parsers\\pdf.py:117\u001b[0m, in \u001b[0;36mPyPDFParser.lazy_parse.<locals>._extract_text_from_page\u001b[1;34m(page)\u001b[0m\n\u001b[0;32m    115\u001b[0m     \u001b[38;5;28;01mreturn\u001b[39;00m page\u001b[38;5;241m.\u001b[39mextract_text()\n\u001b[0;32m    116\u001b[0m \u001b[38;5;28;01melse\u001b[39;00m:\n\u001b[1;32m--> 117\u001b[0m     \u001b[38;5;28;01mreturn\u001b[39;00m \u001b[43mpage\u001b[49m\u001b[38;5;241;43m.\u001b[39;49m\u001b[43mextract_text\u001b[49m\u001b[43m(\u001b[49m\n\u001b[0;32m    118\u001b[0m \u001b[43m        \u001b[49m\u001b[43mextraction_mode\u001b[49m\u001b[38;5;241;43m=\u001b[39;49m\u001b[38;5;28;43mself\u001b[39;49m\u001b[38;5;241;43m.\u001b[39;49m\u001b[43mextraction_mode\u001b[49m\u001b[43m,\u001b[49m\u001b[43m \u001b[49m\u001b[38;5;241;43m*\u001b[39;49m\u001b[38;5;241;43m*\u001b[39;49m\u001b[38;5;28;43mself\u001b[39;49m\u001b[38;5;241;43m.\u001b[39;49m\u001b[43mextraction_kwargs\u001b[49m\n\u001b[0;32m    119\u001b[0m \u001b[43m    \u001b[49m\u001b[43m)\u001b[49m\n",
      "File \u001b[1;32mc:\\Users\\Karthik\\OneDrive\\Desktop\\medical chatbot\\env\\Lib\\site-packages\\pypdf\\_page.py:2102\u001b[0m, in \u001b[0;36mPageObject.extract_text\u001b[1;34m(self, orientations, space_width, visitor_operand_before, visitor_operand_after, visitor_text, extraction_mode, *args, **kwargs)\u001b[0m\n\u001b[0;32m   2099\u001b[0m \u001b[38;5;28;01mif\u001b[39;00m \u001b[38;5;28misinstance\u001b[39m(orientations, \u001b[38;5;28mint\u001b[39m):\n\u001b[0;32m   2100\u001b[0m     orientations \u001b[38;5;241m=\u001b[39m (orientations,)\n\u001b[1;32m-> 2102\u001b[0m \u001b[38;5;28;01mreturn\u001b[39;00m \u001b[38;5;28;43mself\u001b[39;49m\u001b[38;5;241;43m.\u001b[39;49m\u001b[43m_extract_text\u001b[49m\u001b[43m(\u001b[49m\n\u001b[0;32m   2103\u001b[0m \u001b[43m    \u001b[49m\u001b[38;5;28;43mself\u001b[39;49m\u001b[43m,\u001b[49m\n\u001b[0;32m   2104\u001b[0m \u001b[43m    \u001b[49m\u001b[38;5;28;43mself\u001b[39;49m\u001b[38;5;241;43m.\u001b[39;49m\u001b[43mpdf\u001b[49m\u001b[43m,\u001b[49m\n\u001b[0;32m   2105\u001b[0m \u001b[43m    \u001b[49m\u001b[43morientations\u001b[49m\u001b[43m,\u001b[49m\n\u001b[0;32m   2106\u001b[0m \u001b[43m    \u001b[49m\u001b[43mspace_width\u001b[49m\u001b[43m,\u001b[49m\n\u001b[0;32m   2107\u001b[0m \u001b[43m    \u001b[49m\u001b[43mPG\u001b[49m\u001b[38;5;241;43m.\u001b[39;49m\u001b[43mCONTENTS\u001b[49m\u001b[43m,\u001b[49m\n\u001b[0;32m   2108\u001b[0m \u001b[43m    \u001b[49m\u001b[43mvisitor_operand_before\u001b[49m\u001b[43m,\u001b[49m\n\u001b[0;32m   2109\u001b[0m \u001b[43m    \u001b[49m\u001b[43mvisitor_operand_after\u001b[49m\u001b[43m,\u001b[49m\n\u001b[0;32m   2110\u001b[0m \u001b[43m    \u001b[49m\u001b[43mvisitor_text\u001b[49m\u001b[43m,\u001b[49m\n\u001b[0;32m   2111\u001b[0m \u001b[43m\u001b[49m\u001b[43m)\u001b[49m\n",
      "File \u001b[1;32mc:\\Users\\Karthik\\OneDrive\\Desktop\\medical chatbot\\env\\Lib\\site-packages\\pypdf\\_page.py:1868\u001b[0m, in \u001b[0;36mPageObject._extract_text\u001b[1;34m(self, obj, pdf, orientations, space_width, content_key, visitor_operand_before, visitor_operand_after, visitor_text)\u001b[0m\n\u001b[0;32m   1866\u001b[0m xobj \u001b[38;5;241m=\u001b[39m resources_dict[\u001b[38;5;124m\"\u001b[39m\u001b[38;5;124m/XObject\u001b[39m\u001b[38;5;124m\"\u001b[39m]\n\u001b[0;32m   1867\u001b[0m \u001b[38;5;28;01mif\u001b[39;00m xobj[operands[\u001b[38;5;241m0\u001b[39m]][\u001b[38;5;124m\"\u001b[39m\u001b[38;5;124m/Subtype\u001b[39m\u001b[38;5;124m\"\u001b[39m] \u001b[38;5;241m!=\u001b[39m \u001b[38;5;124m\"\u001b[39m\u001b[38;5;124m/Image\u001b[39m\u001b[38;5;124m\"\u001b[39m:  \u001b[38;5;66;03m# type: ignore\u001b[39;00m\n\u001b[1;32m-> 1868\u001b[0m     text \u001b[38;5;241m=\u001b[39m \u001b[38;5;28;43mself\u001b[39;49m\u001b[38;5;241;43m.\u001b[39;49m\u001b[43mextract_xform_text\u001b[49m\u001b[43m(\u001b[49m\n\u001b[0;32m   1869\u001b[0m \u001b[43m        \u001b[49m\u001b[43mxobj\u001b[49m\u001b[43m[\u001b[49m\u001b[43moperands\u001b[49m\u001b[43m[\u001b[49m\u001b[38;5;241;43m0\u001b[39;49m\u001b[43m]\u001b[49m\u001b[43m]\u001b[49m\u001b[43m,\u001b[49m\u001b[43m  \u001b[49m\u001b[38;5;66;43;03m# type: ignore\u001b[39;49;00m\n\u001b[0;32m   1870\u001b[0m \u001b[43m        \u001b[49m\u001b[43morientations\u001b[49m\u001b[43m,\u001b[49m\n\u001b[0;32m   1871\u001b[0m \u001b[43m        \u001b[49m\u001b[43mspace_width\u001b[49m\u001b[43m,\u001b[49m\n\u001b[0;32m   1872\u001b[0m \u001b[43m        \u001b[49m\u001b[43mvisitor_operand_before\u001b[49m\u001b[43m,\u001b[49m\n\u001b[0;32m   1873\u001b[0m \u001b[43m        \u001b[49m\u001b[43mvisitor_operand_after\u001b[49m\u001b[43m,\u001b[49m\n\u001b[0;32m   1874\u001b[0m \u001b[43m        \u001b[49m\u001b[43mvisitor_text\u001b[49m\u001b[43m,\u001b[49m\n\u001b[0;32m   1875\u001b[0m \u001b[43m    \u001b[49m\u001b[43m)\u001b[49m\n\u001b[0;32m   1876\u001b[0m     output \u001b[38;5;241m+\u001b[39m\u001b[38;5;241m=\u001b[39m text\n\u001b[0;32m   1877\u001b[0m     \u001b[38;5;28;01mif\u001b[39;00m visitor_text \u001b[38;5;129;01mis\u001b[39;00m \u001b[38;5;129;01mnot\u001b[39;00m \u001b[38;5;28;01mNone\u001b[39;00m:\n",
      "File \u001b[1;32mc:\\Users\\Karthik\\OneDrive\\Desktop\\medical chatbot\\env\\Lib\\site-packages\\pypdf\\_page.py:2136\u001b[0m, in \u001b[0;36mPageObject.extract_xform_text\u001b[1;34m(self, xform, orientations, space_width, visitor_operand_before, visitor_operand_after, visitor_text)\u001b[0m\n\u001b[0;32m   2113\u001b[0m \u001b[38;5;28;01mdef\u001b[39;00m \u001b[38;5;21mextract_xform_text\u001b[39m(\n\u001b[0;32m   2114\u001b[0m     \u001b[38;5;28mself\u001b[39m,\n\u001b[0;32m   2115\u001b[0m     xform: EncodedStreamObject,\n\u001b[1;32m   (...)\u001b[0m\n\u001b[0;32m   2120\u001b[0m     visitor_text: Optional[Callable[[Any, Any, Any, Any, Any], \u001b[38;5;28;01mNone\u001b[39;00m]] \u001b[38;5;241m=\u001b[39m \u001b[38;5;28;01mNone\u001b[39;00m,\n\u001b[0;32m   2121\u001b[0m ) \u001b[38;5;241m-\u001b[39m\u001b[38;5;241m>\u001b[39m \u001b[38;5;28mstr\u001b[39m:\n\u001b[0;32m   2122\u001b[0m \u001b[38;5;250m    \u001b[39m\u001b[38;5;124;03m\"\"\"\u001b[39;00m\n\u001b[0;32m   2123\u001b[0m \u001b[38;5;124;03m    Extract text from an XObject.\u001b[39;00m\n\u001b[0;32m   2124\u001b[0m \n\u001b[1;32m   (...)\u001b[0m\n\u001b[0;32m   2134\u001b[0m \u001b[38;5;124;03m        The extracted text\u001b[39;00m\n\u001b[0;32m   2135\u001b[0m \u001b[38;5;124;03m    \"\"\"\u001b[39;00m\n\u001b[1;32m-> 2136\u001b[0m     \u001b[38;5;28;01mreturn\u001b[39;00m \u001b[38;5;28;43mself\u001b[39;49m\u001b[38;5;241;43m.\u001b[39;49m\u001b[43m_extract_text\u001b[49m\u001b[43m(\u001b[49m\n\u001b[0;32m   2137\u001b[0m \u001b[43m        \u001b[49m\u001b[43mxform\u001b[49m\u001b[43m,\u001b[49m\n\u001b[0;32m   2138\u001b[0m \u001b[43m        \u001b[49m\u001b[38;5;28;43mself\u001b[39;49m\u001b[38;5;241;43m.\u001b[39;49m\u001b[43mpdf\u001b[49m\u001b[43m,\u001b[49m\n\u001b[0;32m   2139\u001b[0m \u001b[43m        \u001b[49m\u001b[43morientations\u001b[49m\u001b[43m,\u001b[49m\n\u001b[0;32m   2140\u001b[0m \u001b[43m        \u001b[49m\u001b[43mspace_width\u001b[49m\u001b[43m,\u001b[49m\n\u001b[0;32m   2141\u001b[0m \u001b[43m        \u001b[49m\u001b[38;5;28;43;01mNone\u001b[39;49;00m\u001b[43m,\u001b[49m\n\u001b[0;32m   2142\u001b[0m \u001b[43m        \u001b[49m\u001b[43mvisitor_operand_before\u001b[49m\u001b[43m,\u001b[49m\n\u001b[0;32m   2143\u001b[0m \u001b[43m        \u001b[49m\u001b[43mvisitor_operand_after\u001b[49m\u001b[43m,\u001b[49m\n\u001b[0;32m   2144\u001b[0m \u001b[43m        \u001b[49m\u001b[43mvisitor_text\u001b[49m\u001b[43m,\u001b[49m\n\u001b[0;32m   2145\u001b[0m \u001b[43m    \u001b[49m\u001b[43m)\u001b[49m\n",
      "File \u001b[1;32mc:\\Users\\Karthik\\OneDrive\\Desktop\\medical chatbot\\env\\Lib\\site-packages\\pypdf\\_page.py:1626\u001b[0m, in \u001b[0;36mPageObject._extract_text\u001b[1;34m(self, obj, pdf, orientations, space_width, content_key, visitor_operand_before, visitor_operand_after, visitor_text)\u001b[0m\n\u001b[0;32m   1622\u001b[0m     content \u001b[38;5;241m=\u001b[39m (\n\u001b[0;32m   1623\u001b[0m         obj[content_key]\u001b[38;5;241m.\u001b[39mget_object() \u001b[38;5;28;01mif\u001b[39;00m \u001b[38;5;28misinstance\u001b[39m(content_key, \u001b[38;5;28mstr\u001b[39m) \u001b[38;5;28;01melse\u001b[39;00m obj\n\u001b[0;32m   1624\u001b[0m     )\n\u001b[0;32m   1625\u001b[0m     \u001b[38;5;28;01mif\u001b[39;00m \u001b[38;5;129;01mnot\u001b[39;00m \u001b[38;5;28misinstance\u001b[39m(content, ContentStream):\n\u001b[1;32m-> 1626\u001b[0m         content \u001b[38;5;241m=\u001b[39m \u001b[43mContentStream\u001b[49m\u001b[43m(\u001b[49m\u001b[43mcontent\u001b[49m\u001b[43m,\u001b[49m\u001b[43m \u001b[49m\u001b[43mpdf\u001b[49m\u001b[43m,\u001b[49m\u001b[43m \u001b[49m\u001b[38;5;124;43m\"\u001b[39;49m\u001b[38;5;124;43mbytes\u001b[39;49m\u001b[38;5;124;43m\"\u001b[39;49m\u001b[43m)\u001b[49m\n\u001b[0;32m   1627\u001b[0m \u001b[38;5;28;01mexcept\u001b[39;00m \u001b[38;5;167;01mKeyError\u001b[39;00m:  \u001b[38;5;66;03m# it means no content can be extracted(certainly empty page)\u001b[39;00m\n\u001b[0;32m   1628\u001b[0m     \u001b[38;5;28;01mreturn\u001b[39;00m \u001b[38;5;124m\"\u001b[39m\u001b[38;5;124m\"\u001b[39m\n",
      "File \u001b[1;32mc:\\Users\\Karthik\\OneDrive\\Desktop\\medical chatbot\\env\\Lib\\site-packages\\pypdf\\generic\\_data_structures.py:1077\u001b[0m, in \u001b[0;36mContentStream.__init__\u001b[1;34m(self, stream, pdf, forced_encoding)\u001b[0m\n\u001b[0;32m   1075\u001b[0m     \u001b[38;5;28msuper\u001b[39m()\u001b[38;5;241m.\u001b[39mset_data(\u001b[38;5;28mbytes\u001b[39m(data))\n\u001b[0;32m   1076\u001b[0m \u001b[38;5;28;01melse\u001b[39;00m:\n\u001b[1;32m-> 1077\u001b[0m     stream_data \u001b[38;5;241m=\u001b[39m \u001b[43mstream\u001b[49m\u001b[38;5;241;43m.\u001b[39;49m\u001b[43mget_data\u001b[49m\u001b[43m(\u001b[49m\u001b[43m)\u001b[49m\n\u001b[0;32m   1078\u001b[0m     \u001b[38;5;28;01massert\u001b[39;00m stream_data \u001b[38;5;129;01mis\u001b[39;00m \u001b[38;5;129;01mnot\u001b[39;00m \u001b[38;5;28;01mNone\u001b[39;00m\n\u001b[0;32m   1079\u001b[0m     \u001b[38;5;28msuper\u001b[39m()\u001b[38;5;241m.\u001b[39mset_data(b_(stream_data))\n",
      "File \u001b[1;32mc:\\Users\\Karthik\\OneDrive\\Desktop\\medical chatbot\\env\\Lib\\site-packages\\pypdf\\generic\\_data_structures.py:1006\u001b[0m, in \u001b[0;36mEncodedStreamObject.get_data\u001b[1;34m(self)\u001b[0m\n\u001b[0;32m   1002\u001b[0m \u001b[38;5;28;01melse\u001b[39;00m:\n\u001b[0;32m   1003\u001b[0m     \u001b[38;5;66;03m# create decoded object\u001b[39;00m\n\u001b[0;32m   1004\u001b[0m     decoded \u001b[38;5;241m=\u001b[39m DecodedStreamObject()\n\u001b[1;32m-> 1006\u001b[0m     decoded\u001b[38;5;241m.\u001b[39mset_data(b_(\u001b[43mdecode_stream_data\u001b[49m\u001b[43m(\u001b[49m\u001b[38;5;28;43mself\u001b[39;49m\u001b[43m)\u001b[49m))\n\u001b[0;32m   1007\u001b[0m     \u001b[38;5;28;01mfor\u001b[39;00m key, value \u001b[38;5;129;01min\u001b[39;00m \u001b[38;5;28mlist\u001b[39m(\u001b[38;5;28mself\u001b[39m\u001b[38;5;241m.\u001b[39mitems()):\n\u001b[0;32m   1008\u001b[0m         \u001b[38;5;28;01mif\u001b[39;00m key \u001b[38;5;129;01mnot\u001b[39;00m \u001b[38;5;129;01min\u001b[39;00m (SA\u001b[38;5;241m.\u001b[39mLENGTH, SA\u001b[38;5;241m.\u001b[39mFILTER, SA\u001b[38;5;241m.\u001b[39mDECODE_PARMS):\n",
      "File \u001b[1;32mc:\\Users\\Karthik\\OneDrive\\Desktop\\medical chatbot\\env\\Lib\\site-packages\\pypdf\\filters.py:688\u001b[0m, in \u001b[0;36mdecode_stream_data\u001b[1;34m(stream)\u001b[0m\n\u001b[0;32m    686\u001b[0m     params \u001b[38;5;241m=\u001b[39m {}\n\u001b[0;32m    687\u001b[0m \u001b[38;5;28;01mif\u001b[39;00m filter_type \u001b[38;5;129;01min\u001b[39;00m (FT\u001b[38;5;241m.\u001b[39mFLATE_DECODE, FTA\u001b[38;5;241m.\u001b[39mFL):\n\u001b[1;32m--> 688\u001b[0m     data \u001b[38;5;241m=\u001b[39m \u001b[43mFlateDecode\u001b[49m\u001b[38;5;241;43m.\u001b[39;49m\u001b[43mdecode\u001b[49m\u001b[43m(\u001b[49m\u001b[43mdata\u001b[49m\u001b[43m,\u001b[49m\u001b[43m \u001b[49m\u001b[43mparams\u001b[49m\u001b[43m)\u001b[49m\n\u001b[0;32m    689\u001b[0m \u001b[38;5;28;01melif\u001b[39;00m filter_type \u001b[38;5;129;01min\u001b[39;00m (FT\u001b[38;5;241m.\u001b[39mASCII_HEX_DECODE, FTA\u001b[38;5;241m.\u001b[39mAHx):\n\u001b[0;32m    690\u001b[0m     data \u001b[38;5;241m=\u001b[39m ASCIIHexDecode\u001b[38;5;241m.\u001b[39mdecode(data)\n",
      "File \u001b[1;32mc:\\Users\\Karthik\\OneDrive\\Desktop\\medical chatbot\\env\\Lib\\site-packages\\pypdf\\filters.py:127\u001b[0m, in \u001b[0;36mFlateDecode.decode\u001b[1;34m(data, decode_parms, **kwargs)\u001b[0m\n\u001b[0;32m    124\u001b[0m \u001b[38;5;28;01mif\u001b[39;00m \u001b[38;5;28misinstance\u001b[39m(decode_parms, ArrayObject):\n\u001b[0;32m    125\u001b[0m     \u001b[38;5;28;01mraise\u001b[39;00m DeprecationError(\u001b[38;5;124m\"\u001b[39m\u001b[38;5;124mdecode_parms as ArrayObject is depreciated\u001b[39m\u001b[38;5;124m\"\u001b[39m)\n\u001b[1;32m--> 127\u001b[0m str_data \u001b[38;5;241m=\u001b[39m \u001b[43mdecompress\u001b[49m\u001b[43m(\u001b[49m\u001b[43mdata\u001b[49m\u001b[43m)\u001b[49m\n\u001b[0;32m    128\u001b[0m predictor \u001b[38;5;241m=\u001b[39m \u001b[38;5;241m1\u001b[39m\n\u001b[0;32m    130\u001b[0m \u001b[38;5;28;01mif\u001b[39;00m decode_parms:\n",
      "File \u001b[1;32mc:\\Users\\Karthik\\OneDrive\\Desktop\\medical chatbot\\env\\Lib\\site-packages\\pypdf\\filters.py:83\u001b[0m, in \u001b[0;36mdecompress\u001b[1;34m(data)\u001b[0m\n\u001b[0;32m     69\u001b[0m \u001b[38;5;250m\u001b[39m\u001b[38;5;124;03m\"\"\"\u001b[39;00m\n\u001b[0;32m     70\u001b[0m \u001b[38;5;124;03mDecompress the given data using zlib.\u001b[39;00m\n\u001b[0;32m     71\u001b[0m \n\u001b[1;32m   (...)\u001b[0m\n\u001b[0;32m     80\u001b[0m \u001b[38;5;124;03m    The decompressed data.\u001b[39;00m\n\u001b[0;32m     81\u001b[0m \u001b[38;5;124;03m\"\"\"\u001b[39;00m\n\u001b[0;32m     82\u001b[0m \u001b[38;5;28;01mtry\u001b[39;00m:\n\u001b[1;32m---> 83\u001b[0m     \u001b[38;5;28;01mreturn\u001b[39;00m zlib\u001b[38;5;241m.\u001b[39mdecompress(data)\n\u001b[0;32m     84\u001b[0m \u001b[38;5;28;01mexcept\u001b[39;00m zlib\u001b[38;5;241m.\u001b[39merror:\n\u001b[0;32m     85\u001b[0m     \u001b[38;5;28;01mtry\u001b[39;00m:\n\u001b[0;32m     86\u001b[0m         \u001b[38;5;66;03m# For larger files, use Decompress object to enable buffered reading\u001b[39;00m\n",
      "\u001b[1;31mKeyboardInterrupt\u001b[0m: "
     ]
    }
   ],
   "source": [
    "pages = []\n",
    "\n",
    "for page in loader.lazy_load():\n",
    "    pages.append(page)"
   ]
  },
  {
   "cell_type": "code",
   "execution_count": 26,
   "metadata": {},
   "outputs": [
    {
     "data": {
      "text/plain": [
       "{'source': '../data/Gale.pdf', 'page': 0}"
      ]
     },
     "execution_count": 26,
     "metadata": {},
     "output_type": "execute_result"
    }
   ],
   "source": [
    "pages[0].metadata"
   ]
  },
  {
   "cell_type": "code",
   "execution_count": 27,
   "metadata": {},
   "outputs": [
    {
     "data": {
      "text/plain": [
       "'Introduction .................................................... ix\\nAdvisory Board .............................................. xi\\nContributors ................................................. xiii\\nEntries\\nVolume 1: A-B .............................................. 1\\nVolume 2: C-F .......................................... 625\\nVolume 3: G-M ....................................... 1375\\nVolume 4: N-S ........................................ 2307\\nVolume 5: T-Z ........................................ 3237\\nOrganizations ............................................ 3603\\nGeneral Index ............................................ 3625\\nGALE ENCYCLOPEDIA OF MEDICINE 2 VCONTENTS'"
      ]
     },
     "execution_count": 27,
     "metadata": {},
     "output_type": "execute_result"
    }
   ],
   "source": [
    "pages[3].page_content"
   ]
  },
  {
   "cell_type": "code",
   "execution_count": 18,
   "metadata": {},
   "outputs": [],
   "source": []
  },
  {
   "cell_type": "code",
   "execution_count": 38,
   "metadata": {},
   "outputs": [],
   "source": [
    "from dotenv import load_dotenv\n",
    "import os\n",
    "\n",
    "load_dotenv()\n",
    "PINECONE_API_KEY = os.getenv('PINECONE_API_KEY')\n",
    "HF_TOKEN = os.getenv('HF_TOKEN')\n",
    "HUGGINGFACEHUB_API_TOKEN = os.getenv('HUGGINGFACEHUB_API_TOKEN')"
   ]
  },
  {
   "cell_type": "code",
   "execution_count": 5,
   "metadata": {},
   "outputs": [],
   "source": [
    "def load_pdf(data):\n",
    "    loader = DirectoryLoader(data, glob = \"*.pdf\", loader_cls = PyPDFLoader)\n",
    "\n",
    "    document = loader.load()\n",
    "    return document"
   ]
  },
  {
   "cell_type": "code",
   "execution_count": 7,
   "metadata": {},
   "outputs": [],
   "source": [
    "extracted_data = load_pdf(\"../data/\")"
   ]
  },
  {
   "cell_type": "markdown",
   "metadata": {},
   "source": [
    "### Create text chunks"
   ]
  },
  {
   "cell_type": "code",
   "execution_count": 19,
   "metadata": {},
   "outputs": [],
   "source": [
    "def text_split(extracted_data):\n",
    "    text_splitter = RecursiveCharacterTextSplitter(chunk_size = 500, chunk_overlap = 20)\n",
    "    text_chunks = text_splitter.split_documents(extracted_data)\n",
    "    return text_chunks"
   ]
  },
  {
   "cell_type": "code",
   "execution_count": 20,
   "metadata": {},
   "outputs": [],
   "source": [
    "texts = text_split(pages)"
   ]
  },
  {
   "cell_type": "code",
   "execution_count": 23,
   "metadata": {},
   "outputs": [
    {
     "name": "stdout",
     "output_type": "stream",
     "text": [
      "page_content='Multimedia Content\n",
      "Kelly A. Quin, Editor, Imaging and Multimedia Content\n",
      "Leitha Etheridge-Sims, Mary K. Grimes, Dave Oblender,\n",
      "Image Catalogers\n",
      "Pamela A. Reed, Imaging Coordinator\n",
      "Randy Bassett, Imaging Supervisor\n",
      "Robert Duncan, Senior Imaging Specialist\n",
      "Dan Newell, Imaging Specialist\n",
      "Christine O’Bryan, Graphic Specialist\n",
      "Maria Franklin, Permissions Manager\n",
      "Margaret A. Chamberlain, Permissions Specialist\n",
      "Michelle DiMercurio, Senior Art Director\n",
      "Mike Logusz, Graphic Artist' metadata={'source': '../data/Gale.pdf', 'page': 2}\n"
     ]
    }
   ],
   "source": [
    "print(texts[3])"
   ]
  },
  {
   "cell_type": "markdown",
   "metadata": {},
   "source": [
    "### Embedding text chunks"
   ]
  },
  {
   "cell_type": "code",
   "execution_count": 58,
   "metadata": {},
   "outputs": [],
   "source": [
    "def download_hf_embeddings():\n",
    "    embeddings = HuggingFaceEmbeddings(model_name = \"sentence-transformers/all-MiniLM-L6-v2\")\n",
    "    return embeddings"
   ]
  },
  {
   "cell_type": "code",
   "execution_count": 59,
   "metadata": {},
   "outputs": [
    {
     "name": "stderr",
     "output_type": "stream",
     "text": [
      "C:\\Users\\Karthik\\AppData\\Local\\Temp\\ipykernel_2236\\2096708754.py:2: LangChainDeprecationWarning: The class `HuggingFaceEmbeddings` was deprecated in LangChain 0.2.2 and will be removed in 1.0. An updated version of the class exists in the :class:`~langchain-huggingface package and should be used instead. To use it run `pip install -U :class:`~langchain-huggingface` and import as `from :class:`~langchain_huggingface import HuggingFaceEmbeddings``.\n",
      "  embeddings = HuggingFaceEmbeddings(model_name = \"sentence-transformers/all-MiniLM-L6-v2\")\n",
      "c:\\Users\\Karthik\\OneDrive\\Desktop\\medical chatbot\\env\\Lib\\site-packages\\transformers\\tokenization_utils_base.py:1601: FutureWarning: `clean_up_tokenization_spaces` was not set. It will be set to `True` by default. This behavior will be depracted in transformers v4.45, and will be then set to `False` by default. For more details check this issue: https://github.com/huggingface/transformers/issues/31884\n",
      "  warnings.warn(\n"
     ]
    }
   ],
   "source": [
    "embedding = download_hf_embeddings()"
   ]
  },
  {
   "cell_type": "code",
   "execution_count": 6,
   "metadata": {},
   "outputs": [
    {
     "data": {
      "text/plain": [
       "HuggingFaceEmbeddings(client=SentenceTransformer(\n",
       "  (0): Transformer({'max_seq_length': 256, 'do_lower_case': False}) with Transformer model: BertModel \n",
       "  (1): Pooling({'word_embedding_dimension': 384, 'pooling_mode_cls_token': False, 'pooling_mode_mean_tokens': True, 'pooling_mode_max_tokens': False, 'pooling_mode_mean_sqrt_len_tokens': False, 'pooling_mode_weightedmean_tokens': False, 'pooling_mode_lasttoken': False, 'include_prompt': True})\n",
       "  (2): Normalize()\n",
       "), model_name='sentence-transformers/all-MiniLM-L6-v2', cache_folder=None, model_kwargs={}, encode_kwargs={}, multi_process=False, show_progress=False)"
      ]
     },
     "execution_count": 6,
     "metadata": {},
     "output_type": "execute_result"
    }
   ],
   "source": [
    "embedding"
   ]
  },
  {
   "cell_type": "code",
   "execution_count": 63,
   "metadata": {},
   "outputs": [],
   "source": [
    "docsearch = PineconeVectorStore(index_name=\"resume-59e56b31\", embedding=embedding)"
   ]
  },
  {
   "cell_type": "code",
   "execution_count": 65,
   "metadata": {},
   "outputs": [
    {
     "ename": "NameError",
     "evalue": "name 'asyncio' is not defined",
     "output_type": "error",
     "traceback": [
      "\u001b[1;31m---------------------------------------------------------------------------\u001b[0m",
      "\u001b[1;31mNameError\u001b[0m                                 Traceback (most recent call last)",
      "Cell \u001b[1;32mIn[65], line 1\u001b[0m\n\u001b[1;32m----> 1\u001b[0m \u001b[43masyncio\u001b[49m\u001b[38;5;241m.\u001b[39mrun(docsearch\u001b[38;5;241m.\u001b[39masimilarity_search(\u001b[38;5;124m\"\u001b[39m\u001b[38;5;124mWhat is my name?\u001b[39m\u001b[38;5;124m\"\u001b[39m))\n",
      "\u001b[1;31mNameError\u001b[0m: name 'asyncio' is not defined"
     ]
    }
   ],
   "source": [
    "import asyncio\n",
    "\n",
    "asyncio.run(docsearch.asimilarity_search(\"What is my name?\"))"
   ]
  },
  {
   "cell_type": "markdown",
   "metadata": {},
   "source": [
    "### Initialize Pinecone"
   ]
  },
  {
   "cell_type": "code",
   "execution_count": 17,
   "metadata": {},
   "outputs": [],
   "source": [
    "index_name = \"medical-chatbot\""
   ]
  },
  {
   "cell_type": "code",
   "execution_count": null,
   "metadata": {},
   "outputs": [],
   "source": [
    "docsearch = Pinecone.from_texts([t.page_content for t in text_chunks], embedding, index_name = index_name)"
   ]
  },
  {
   "cell_type": "code",
   "execution_count": 18,
   "metadata": {},
   "outputs": [
    {
     "name": "stdout",
     "output_type": "stream",
     "text": [
      "[Document(page_content='ORGANIZATIONS\\nAmerican Academy of Ophthalmology. 655 Beach Street, PO\\nBox 7424, San Francisco, CA 94120-7424. <http://www.eyenet.org>.KEY TERMS\\nAllergen —A substance capable of inducing an\\nallergic response.\\nAllergic reaction —An immune system reaction to\\na substance in the environment; symptomsinclude rash, inflammation, sneezing, itchy wateryeyes, and runny nose.\\nConjunctiva —The mucous membrane that covers\\nthe white part of the eyes and lines the eyelids.'), Document(page_content='Although environmental medicine is gaining more\\nrespect within conventional medicine, detoxificationKEY TERMS\\nAllergen —A foreign substance, such as mites in\\nhouse dust or animal dander, that wheninhaled,causes the airways to narrow and pro-duces symptoms of asthma.\\nAntibody —A protein, also called immunoglobu-\\nlin, produced by immune system cells to removeantigens (the foreign substances that trigger theimmune response).\\nFibromyalgia —A condition of debilitating pain,'), Document(page_content='among other symptoms, in the muscles and themyofascia (the thin connective tissue that sur-rounds muscles, bones, and organs).\\nHypersensitivity —The state where even a tiny\\namount of allergen can cause severe allergic reac-tions.\\nMultiple chemical sensitivity —A condition char-\\nacterized by severe and crippling allergic reac-tions to commonly used substances, particularlychemicals. Also called environmental illness.treatment is scarcely mentioned by the medical establish-')]\n"
     ]
    }
   ],
   "source": [
    "docsearch = Pinecone.from_existing_index(index_name, embedding)\n",
    "\n",
    "query = \"What are allergies?\"\n",
    "\n",
    "docs = docsearch.similarity_search(query, k = 3)\n",
    "\n",
    "print(docs)"
   ]
  },
  {
   "cell_type": "code",
   "execution_count": 22,
   "metadata": {},
   "outputs": [],
   "source": [
    "retriever = docsearch.as_retriever(search_type=\"similarity\", search_kwargs={\"k\": 6})"
   ]
  },
  {
   "cell_type": "code",
   "execution_count": 23,
   "metadata": {},
   "outputs": [
    {
     "data": {
      "text/plain": [
       "[Document(page_content='ORGANIZATIONS\\nAmerican Academy of Ophthalmology. 655 Beach Street, PO\\nBox 7424, San Francisco, CA 94120-7424. <http://www.eyenet.org>.KEY TERMS\\nAllergen —A substance capable of inducing an\\nallergic response.\\nAllergic reaction —An immune system reaction to\\na substance in the environment; symptomsinclude rash, inflammation, sneezing, itchy wateryeyes, and runny nose.\\nConjunctiva —The mucous membrane that covers\\nthe white part of the eyes and lines the eyelids.'),\n",
       " Document(page_content='Although environmental medicine is gaining more\\nrespect within conventional medicine, detoxificationKEY TERMS\\nAllergen —A foreign substance, such as mites in\\nhouse dust or animal dander, that wheninhaled,causes the airways to narrow and pro-duces symptoms of asthma.\\nAntibody —A protein, also called immunoglobu-\\nlin, produced by immune system cells to removeantigens (the foreign substances that trigger theimmune response).\\nFibromyalgia —A condition of debilitating pain,'),\n",
       " Document(page_content='repeated exposure to an allergen (an allergy-causing sub-stance) triggers an immune response that inflames theskin. Tens of thousands of drugs, pesticides, cosmetics,food additives, commercial chemicals, and other sub-stances have been identified as potential allergens. Fewerthan 30, however, are responsible the majority of ACDcases. Common culprits include poison ivy, poison oak,and poison sumac; fragrances and preservatives in cosmet-ics and personal care products; latex items such as'),\n",
       " Document(page_content='allergy and hypersensitivity tests. Intradermal (betweenlayers of the skin) and sublingual (under the tongue)allergy tests are used to determine a patient’s sensitivityto a variety of common substances, including formalde-hyde, auto exhaust, perfume, tobacco, chlorine, jet fuel,and other chemicals.\\nFood allergies require additional tests because these'),\n",
       " Document(page_content='the allergen or irritating substance and avoid further con-tact with it. If the culprit is, for instance, a cosmetic, avoid-ance is a simple matter, but in some situations, such as anallergy to an essential workplace chemical for which nosubstitute can be found, avoidance may be impossible orforce the sufferer to find new work or make other drasticchanges in his or her life. Barrier creams and protectiveclothing such as gloves, masks, and long-sleeved shirts areways of coping with contact'),\n",
       " Document(page_content='among other symptoms, in the muscles and themyofascia (the thin connective tissue that sur-rounds muscles, bones, and organs).\\nHypersensitivity —The state where even a tiny\\namount of allergen can cause severe allergic reac-tions.\\nMultiple chemical sensitivity —A condition char-\\nacterized by severe and crippling allergic reac-tions to commonly used substances, particularlychemicals. Also called environmental illness.treatment is scarcely mentioned by the medical establish-')]"
      ]
     },
     "execution_count": 23,
     "metadata": {},
     "output_type": "execute_result"
    }
   ],
   "source": [
    "retriever.invoke(\"What are allergens?\")"
   ]
  },
  {
   "cell_type": "code",
   "execution_count": 9,
   "metadata": {},
   "outputs": [
    {
     "name": "stderr",
     "output_type": "stream",
     "text": [
      "c:\\Users\\Karthik\\OneDrive\\Desktop\\medical chatbot\\env\\Lib\\site-packages\\langsmith\\client.py:312: LangSmithMissingAPIKeyWarning: API key must be provided when using hosted LangSmith API\n",
      "  warnings.warn(\n"
     ]
    }
   ],
   "source": [
    "from langchain import hub\n",
    "\n",
    "prompt = hub.pull(\"rlm/rag-prompt\")"
   ]
  },
  {
   "cell_type": "code",
   "execution_count": 10,
   "metadata": {},
   "outputs": [
    {
     "data": {
      "text/plain": [
       "ChatPromptTemplate(input_variables=['context', 'question'], metadata={'lc_hub_owner': 'rlm', 'lc_hub_repo': 'rag-prompt', 'lc_hub_commit_hash': '50442af133e61576e74536c6556cefe1fac147cad032f4377b60c436e6cdcb6e'}, messages=[HumanMessagePromptTemplate(prompt=PromptTemplate(input_variables=['context', 'question'], template=\"You are an assistant for question-answering tasks. Use the following pieces of retrieved context to answer the question. If you don't know the answer, just say that you don't know. Use three sentences maximum and keep the answer concise.\\nQuestion: {question} \\nContext: {context} \\nAnswer:\"))])"
      ]
     },
     "execution_count": 10,
     "metadata": {},
     "output_type": "execute_result"
    }
   ],
   "source": [
    "prompt"
   ]
  },
  {
   "cell_type": "markdown",
   "metadata": {},
   "source": [
    "### Loading the llama 3 model"
   ]
  },
  {
   "cell_type": "code",
   "execution_count": 39,
   "metadata": {},
   "outputs": [],
   "source": [
    "from langchain_ollama import ChatOllama\n",
    "\n",
    "local_llm = 'llama3.2'\n",
    "llm = ChatOllama(model=local_llm)"
   ]
  },
  {
   "cell_type": "code",
   "execution_count": 41,
   "metadata": {},
   "outputs": [
    {
     "name": "stdout",
     "output_type": "stream",
     "text": [
      "content=\"England does not have a capital city in the classical sense. The United Kingdom (UK) is made up of four countries: England, Scotland, Wales, and Northern Ireland.\\n\\nThe capital of England is often considered to be London, which is also the capital of the UK. However, this can be misleading as London is a global city that serves as the capital of multiple countries, including England, the UK, and the Commonwealth.\\n\\nIn practice, though, the capital of England is typically taken to be Birmingham or another major English city, but there isn't an official capital designated specifically for England.\" response_metadata={'model': 'llama3.2', 'created_at': '2024-10-04T08:38:53.2386198Z', 'message': {'role': 'assistant', 'content': ''}, 'done_reason': 'stop', 'done': True, 'total_duration': 14221404700, 'load_duration': 68159600, 'prompt_eval_count': 31, 'prompt_eval_duration': 167193000, 'eval_count': 120, 'eval_duration': 13951925000} id='run-785e2154-b8bb-47d8-b97b-92b39ae04f50-0' usage_metadata={'input_tokens': 31, 'output_tokens': 120, 'total_tokens': 151}\n"
     ]
    }
   ],
   "source": [
    "print(llm.invoke(\"What is the capital of England\"))"
   ]
  },
  {
   "cell_type": "code",
   "execution_count": 24,
   "metadata": {},
   "outputs": [
    {
     "name": "stdout",
     "output_type": "stream",
     "text": [
      "Here is a concise answer:\n",
      "\n",
      "Allergies are an immune system reaction to a substance in the environment that can cause symptoms such as rash, inflammation, sneezing, itchy watery eyes, and runny nose. Allergens are substances capable of inducing this reaction, which can be caused by exposure to foreign substances like dust mites or animal dander. Symptoms can range from mild to severe depending on the individual's sensitivity to the allergen."
     ]
    }
   ],
   "source": [
    "from langchain_core.output_parsers import StrOutputParser\n",
    "from langchain_core.runnables import RunnablePassthrough\n",
    "\n",
    "def format_docs(docs):\n",
    "    return \"\\n\\n\".join(doc.page_content for doc in docs)\n",
    "\n",
    "\n",
    "rag_chain = (\n",
    "    {\"context\": retriever | format_docs, \"question\": RunnablePassthrough()}\n",
    "    | prompt\n",
    "    | llm\n",
    "    | StrOutputParser()\n",
    ")\n",
    "\n",
    "for chunk in rag_chain.stream(\"What are allergies?\"):\n",
    "    print(chunk, end=\"\", flush=True)"
   ]
  },
  {
   "cell_type": "code",
   "execution_count": 25,
   "metadata": {},
   "outputs": [
    {
     "name": "stdout",
     "output_type": "stream",
     "text": [
      "I don't have information on cloud computing. The retrieved context appears to be unrelated to this topic. I don't know what cloud computing is."
     ]
    }
   ],
   "source": [
    "for chunk in rag_chain.stream(\"What is cloud computing?\"):\n",
    "    print(chunk, end=\"\", flush=True)"
   ]
  },
  {
   "cell_type": "code",
   "execution_count": 32,
   "metadata": {},
   "outputs": [],
   "source": [
    "op = rag_chain.stream(\"What are allergens?\")"
   ]
  },
  {
   "cell_type": "code",
   "execution_count": 33,
   "metadata": {},
   "outputs": [],
   "source": [
    "a = list(op)"
   ]
  },
  {
   "cell_type": "code",
   "execution_count": 34,
   "metadata": {},
   "outputs": [
    {
     "data": {
      "text/plain": [
       "['Here',\n",
       " ' is',\n",
       " ' a',\n",
       " ' ',\n",
       " '3',\n",
       " ' sentence',\n",
       " ' answer',\n",
       " ':\\n\\n',\n",
       " 'All',\n",
       " 'erg',\n",
       " 'ens',\n",
       " ' are',\n",
       " ' foreign',\n",
       " ' substances',\n",
       " ' that',\n",
       " ' can',\n",
       " ' induce',\n",
       " ' an',\n",
       " ' allergic',\n",
       " ' response',\n",
       " ' in',\n",
       " ' the',\n",
       " ' body',\n",
       " ',',\n",
       " ' such',\n",
       " ' as',\n",
       " ' m',\n",
       " 'ites',\n",
       " ' in',\n",
       " ' house',\n",
       " ' dust',\n",
       " ' or',\n",
       " ' animal',\n",
       " ' d',\n",
       " 'ander',\n",
       " '.',\n",
       " ' These',\n",
       " ' substances',\n",
       " ' trigger',\n",
       " ' an',\n",
       " ' immune',\n",
       " ' response',\n",
       " ' that',\n",
       " ' infl',\n",
       " 'ames',\n",
       " ' the',\n",
       " ' skin',\n",
       " ' and',\n",
       " ' causes',\n",
       " ' symptoms',\n",
       " ' like',\n",
       " ' rash',\n",
       " ',',\n",
       " ' inflammation',\n",
       " ',',\n",
       " ' sne',\n",
       " 'ez',\n",
       " 'ing',\n",
       " ',',\n",
       " ' it',\n",
       " 'chy',\n",
       " ' wat',\n",
       " 'ery',\n",
       " ' eyes',\n",
       " ',',\n",
       " ' and',\n",
       " ' run',\n",
       " 'ny',\n",
       " ' nose',\n",
       " '.',\n",
       " ' Common',\n",
       " ' allerg',\n",
       " 'ens',\n",
       " ' include',\n",
       " ' poison',\n",
       " ' iv',\n",
       " 'y',\n",
       " ',',\n",
       " ' frag',\n",
       " 'rances',\n",
       " ',',\n",
       " ' pres',\n",
       " 'ervatives',\n",
       " ',',\n",
       " ' latex',\n",
       " ' items',\n",
       " ',',\n",
       " ' and',\n",
       " ' certain',\n",
       " ' chemicals',\n",
       " ' and',\n",
       " ' food',\n",
       " ' additives',\n",
       " '.',\n",
       " '']"
      ]
     },
     "execution_count": 34,
     "metadata": {},
     "output_type": "execute_result"
    }
   ],
   "source": [
    "a"
   ]
  },
  {
   "cell_type": "code",
   "execution_count": 35,
   "metadata": {},
   "outputs": [
    {
     "data": {
      "text/plain": [
       "'Here is a 3 sentence answer:\\n\\nAllergens are foreign substances that can induce an allergic response in the body, such as mites in house dust or animal dander. These substances trigger an immune response that inflames the skin and causes symptoms like rash, inflammation, sneezing, itchy watery eyes, and runny nose. Common allergens include poison ivy, fragrances, preservatives, latex items, and certain chemicals and food additives.'"
      ]
     },
     "execution_count": 35,
     "metadata": {},
     "output_type": "execute_result"
    }
   ],
   "source": [
    "''.join(a)"
   ]
  },
  {
   "cell_type": "code",
   "execution_count": null,
   "metadata": {},
   "outputs": [],
   "source": []
  }
 ],
 "metadata": {
  "kernelspec": {
   "display_name": "Python 3",
   "language": "python",
   "name": "python3"
  },
  "language_info": {
   "codemirror_mode": {
    "name": "ipython",
    "version": 3
   },
   "file_extension": ".py",
   "mimetype": "text/x-python",
   "name": "python",
   "nbconvert_exporter": "python",
   "pygments_lexer": "ipython3",
   "version": "3.11.9"
  }
 },
 "nbformat": 4,
 "nbformat_minor": 2
}
